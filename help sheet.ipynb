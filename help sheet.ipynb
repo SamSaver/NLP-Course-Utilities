{
 "cells": [
  {
   "cell_type": "code",
   "execution_count": 14,
   "id": "0bdbe033",
   "metadata": {},
   "outputs": [
    {
     "name": "stderr",
     "output_type": "stream",
     "text": [
      "[nltk_data] Downloading package wordnet to\n",
      "[nltk_data]     /Users/samarthpawar/nltk_data...\n",
      "[nltk_data]   Package wordnet is already up-to-date!\n",
      "[nltk_data] Downloading package omw-1.4 to\n",
      "[nltk_data]     /Users/samarthpawar/nltk_data...\n",
      "[nltk_data]   Package omw-1.4 is already up-to-date!\n",
      "[nltk_data] Downloading package punkt to\n",
      "[nltk_data]     /Users/samarthpawar/nltk_data...\n",
      "[nltk_data]   Package punkt is already up-to-date!\n"
     ]
    }
   ],
   "source": [
    "import numpy as np\n",
    "import matplotlib.pyplot as plt\n",
    "import pandas as pd\n",
    "import nltk\n",
    "nltk.download('wordnet')\n",
    "nltk.download('omw-1.4')\n",
    "nltk.download('punkt')\n",
    "from nltk.stem import WordNetLemmatizer, PorterStemmer\n",
    "from nltk.corpus import stopwords\n",
    "from nltk.tokenize import word_tokenize\n",
    "from nltk import pos_tag\n",
    "from nltk import FreqDist\n",
    "from nltk import bigrams\n",
    "from nltk import trigrams\n",
    "from nltk import ngrams\n",
    "import re\n",
    "from collections import Counter\n",
    "from nltk.lm import MLE\n",
    "from nltk.lm import Laplace"
   ]
  },
  {
   "cell_type": "markdown",
   "id": "2c1bb4ed",
   "metadata": {},
   "source": [
    "## Globals"
   ]
  },
  {
   "cell_type": "code",
   "execution_count": 15,
   "id": "ed4be0aa",
   "metadata": {},
   "outputs": [],
   "source": [
    "text_corpus = \"\"\n",
    "is_lemmatization = True\n",
    "is_stemming = False"
   ]
  },
  {
   "cell_type": "markdown",
   "id": "1242f873",
   "metadata": {},
   "source": [
    "## Helpful functions"
   ]
  },
  {
   "cell_type": "code",
   "execution_count": 16,
   "id": "7fdc86a7",
   "metadata": {},
   "outputs": [],
   "source": [
    "def get_small_case(text):\n",
    "  return ' '.join(re.findall(r'\\w+', text.lower()))\n",
    "\n",
    "\n",
    "token_counts = Counter(get_small_case(text_corpus))\n",
    "\n",
    "\n",
    "def P(word, N=sum(token_counts.values())):\n",
    "  \"\"\"Probability of word\"\"\"\n",
    "  return token_counts[word] / N\n",
    "\n",
    "def correction(word):\n",
    "  \"\"\"Most probable spelling correction for word\"\"\"\n",
    "  return max(candidates(word), key=P)\n",
    "\n",
    "def candidates(word):\n",
    "  \"\"\"Possible corrections for word\"\"\"\n",
    "  return (known([word]) or known(edits1(word)) or known(edits2(word)) or [word])\n",
    "\n",
    "def known(words):\n",
    "  \"\"\"The subset of 'words' that appear in the dictionary of token_counts\"\"\"\n",
    "  return set(w for w in words if w in token_counts)\n",
    "\n",
    "def edits1(word):\n",
    "  \"\"\"All edits that are one edit away from 'word'\"\"\"\n",
    "  letters = 'abcdefghijklmnopqrstuvwxyz'\n",
    "  splits = [(word[:i], word[i:]) for i in range(len(word) + 1)]\n",
    "  deletes = [L + R[1:] for L, R in splits if R ]\n",
    "  transposes = [L + R[1] + R[0] + R[2:] for L, R in splits if len(R)>1]\n",
    "  replaces = [L + c + R[1:] for L, R in splits if R for c in letters ]\n",
    "  inserts = [L + c + R for L, R in splits for c in letters]\n",
    "  return set(deletes + transposes + replaces + inserts)\n",
    "\n",
    "def edits2(word):\n",
    "  \"\"\"All the edits are two edits away from word\"\"\"\n",
    "  return (e2 for e1 in edits1(word) for e2 in edits1(e1))"
   ]
  },
  {
   "cell_type": "markdown",
   "id": "02fb6152",
   "metadata": {},
   "source": [
    "## Word Lemmatizer"
   ]
  },
  {
   "cell_type": "code",
   "execution_count": 17,
   "id": "5ffa63ea",
   "metadata": {},
   "outputs": [],
   "source": [
    "def do_lemmatization(tokens):\n",
    "    lemmatizer = WordNetLemmatizer()\n",
    "    lemmatized_tokens = [lemmatizer.lemmatize(token) for token in tokens]\n",
    "    return lemmatized_tokens"
   ]
  },
  {
   "cell_type": "markdown",
   "id": "d70ca7e9",
   "metadata": {},
   "source": [
    "## Word Stemmer"
   ]
  },
  {
   "cell_type": "code",
   "execution_count": 18,
   "id": "f6c0f8d6",
   "metadata": {},
   "outputs": [],
   "source": [
    "def do_stemming(tokens):\n",
    "    stemmer = PorterStemmer()\n",
    "    stemmed_tokens = [stemmer.stem(token) for token in tokens]\n",
    "    return stemmed_tokens"
   ]
  },
  {
   "cell_type": "markdown",
   "id": "7a9838aa",
   "metadata": {},
   "source": [
    "## Zipf's Law for given dataset"
   ]
  },
  {
   "cell_type": "code",
   "execution_count": 19,
   "id": "f69a6cf2",
   "metadata": {},
   "outputs": [],
   "source": [
    "def show_zipfs_law(tokens):\n",
    "    token_counts = Counter(tokens)\n",
    "    # Frequency of n-th most frequent word and 1/n line.\n",
    "    freqs = [count for _, count in token_counts.most_common()]\n",
    "    ranks = range(1, len(freqs) + 1)\n",
    "    plt.plot(ranks, freqs)\n",
    "    plt.plot(ranks, [freqs[0] / rank for rank in ranks])\n",
    "    plt.xscale('log')\n",
    "    plt.yscale('log')\n",
    "    plt.xlabel('Rank')\n",
    "    plt.ylabel('Frequency')\n",
    "    plt.title('Zipf\\'s Law')\n",
    "    plt.show()\n",
    "    "
   ]
  },
  {
   "cell_type": "markdown",
   "id": "ca7b3953",
   "metadata": {},
   "source": [
    "## Questions (Tut 1)"
   ]
  },
  {
   "cell_type": "markdown",
   "id": "3598bdd6",
   "metadata": {},
   "source": [
    "### Question 1: Show Zipf's law using Gutenberg Corpus? (download the Gutenberg Corpus using nltk)"
   ]
  },
  {
   "cell_type": "code",
   "execution_count": 20,
   "id": "a81cf8c3",
   "metadata": {},
   "outputs": [
    {
     "name": "stderr",
     "output_type": "stream",
     "text": [
      "[nltk_data] Downloading package gutenberg to\n",
      "[nltk_data]     /Users/samarthpawar/nltk_data...\n",
      "[nltk_data]   Package gutenberg is already up-to-date!\n"
     ]
    },
    {
     "data": {
      "image/png": "[encoded data removed]",
      "text/plain": [
       "<Figure size 432x288 with 1 Axes>"
      ]
     },
     "metadata": {
      "needs_background": "light"
     },
     "output_type": "display_data"
    }
   ],
   "source": [
    "# Show Zipf's law using Gutenberg Corpus? (download the Gutenberg Corpus using nltk)\n",
    "\n",
    "# download gutenberg corpus\n",
    "nltk.download('gutenberg')\n",
    "from nltk.corpus import gutenberg\n",
    "# get the words from the corpus\n",
    "words = gutenberg.words()\n",
    "if is_lemmatization:\n",
    "    words = do_lemmatization(words)\n",
    "\n",
    "if is_stemming:\n",
    "    words = do_stemming(words)\n",
    "# show the Zipf's law\n",
    "show_zipfs_law(words)"
   ]
  },
  {
   "cell_type": "markdown",
   "id": "0f336efb",
   "metadata": {},
   "source": [
    "### Question 2: Perform word tokenization on string \n",
    "\n",
    "\"Let’s go and meet Mr. Takashi, one of the prominent members of N.C.A. in Japan.\""
   ]
  },
  {
   "cell_type": "code",
   "execution_count": 21,
   "id": "246fc12d",
   "metadata": {},
   "outputs": [
    {
     "name": "stdout",
     "output_type": "stream",
     "text": [
      "['Lets', 'go', 'and', 'meet', 'Mr', 'Takashi', 'one', 'of', 'the', 'prominent', 'members', 'of', 'NCA', 'in', 'Japan']\n"
     ]
    }
   ],
   "source": [
    "# Perform word tokenization on text string\n",
    "text = \"Let’s go and meet Mr. Takashi, one of the prominent members of N.C.A. in Japan.\"\n",
    "cleaned_text = re.sub(r'[^\\w\\s]', '', text)\n",
    "tokens = word_tokenize(cleaned_text)\n",
    "print(tokens)\n"
   ]
  },
  {
   "cell_type": "markdown",
   "id": "518e3421",
   "metadata": {},
   "source": [
    "### Question(3) Write a custom function to perform stemming to handle \"ed\" at the end of a word."
   ]
  },
  {
   "cell_type": "code",
   "execution_count": 22,
   "id": "c30f16db",
   "metadata": {},
   "outputs": [
    {
     "data": {
      "text/plain": [
       "'play'"
      ]
     },
     "execution_count": 22,
     "metadata": {},
     "output_type": "execute_result"
    }
   ],
   "source": [
    "def custom_stemming_ed(word):\n",
    "    \"\"\"Custom Stemming ending with ed, ing, s\"\"\"\n",
    "    if word.endswith('ing'):\n",
    "        return word[:-3]\n",
    "    elif word.endswith('ed'):\n",
    "        return word[:-2]\n",
    "    elif word.endswith('s'):\n",
    "        return word[:-1]\n",
    "    else:\n",
    "        return word\n",
    "\n",
    "custom_stemming_ed('played')"
   ]
  },
  {
   "cell_type": "markdown",
   "id": "1614014d",
   "metadata": {},
   "source": [
    "### Question 4: Remove emails from the given text using regular expressions?"
   ]
  },
  {
   "cell_type": "code",
   "execution_count": 23,
   "id": "9bbc49c6",
   "metadata": {},
   "outputs": [
    {
     "name": "stdout",
     "output_type": "stream",
     "text": [
      "\n",
      "Dave Martin\n",
      "615-555-7164\n",
      "173 Main St., Springfield RI 55924\n",
      "Charles Harris\n",
      "800-555-5669a\n",
      "969 High St., Atlantis VA 34075\n",
      "Eric Williams\n",
      "560-555-5153\n",
      "806 1st St., Faketown AK 86847\n",
      "\n"
     ]
    }
   ],
   "source": [
    "def remove_emails(text):\n",
    "    \"\"\"Remove emails from text\"\"\"\n",
    "    return re.sub(r'\\S*@\\S*\\s?', '', text)\n",
    "\n",
    "text = \"\"\"\n",
    "Dave Martin\n",
    "615-555-7164\n",
    "173 Main St., Springfield RI 55924\n",
    "davemartin@gmail.com\n",
    "Charles Harris\n",
    "800-555-5669a\n",
    "969 High St., Atlantis VA 34075\n",
    "charlesharris@bogusemail.com\n",
    "Eric Williams\n",
    "560-555-5153\n",
    "806 1st St., Faketown AK 86847\n",
    "laurawilliams@outlook.com\n",
    "\"\"\"\n",
    "\n",
    "print(remove_emails(text))"
   ]
  },
  {
   "cell_type": "markdown",
   "id": "1cfb104a",
   "metadata": {},
   "source": [
    "# Tutorial 2 stuff"
   ]
  },
  {
   "cell_type": "code",
   "execution_count": 49,
   "id": "1f15316c",
   "metadata": {},
   "outputs": [
    {
     "name": "stderr",
     "output_type": "stream",
     "text": [
      "[nltk_data] Downloading package brown to\n",
      "[nltk_data]     /Users/samarthpawar/nltk_data...\n",
      "[nltk_data]   Package brown is already up-to-date!\n"
     ]
    }
   ],
   "source": [
    "# Importing the necessary libraries\n",
    "from nltk.util import pad_sequence\n",
    "from nltk.util import bigrams\n",
    "from nltk.util import ngrams\n",
    "from nltk.util import everygrams\n",
    "from nltk.lm.preprocessing import pad_both_ends\n",
    "from nltk.lm.preprocessing import flatten\n",
    "from sklearn.feature_extraction.text import CountVectorizer\n",
    "from nltk.lm.preprocessing import padded_everygram_pipeline\n",
    "nltk.download('brown')\n",
    "from nltk.lm import MLE\n",
    "import spacy"
   ]
  },
  {
   "cell_type": "markdown",
   "id": "cf938666",
   "metadata": {},
   "source": [
    "## Bigram Calculations"
   ]
  },
  {
   "cell_type": "code",
   "execution_count": 25,
   "id": "24d4168d",
   "metadata": {},
   "outputs": [
    {
     "name": "stdout",
     "output_type": "stream",
     "text": [
      "[('a', 'b'), ('b', 'c')]\n",
      "[('a', 'c'), ('c', 'd'), ('d', 'c'), ('c', 'e'), ('e', 'f')]\n"
     ]
    }
   ],
   "source": [
    "# Dummy text data containing two sentences\n",
    "text = [['a', 'b', 'c'], ['a', 'c', 'd', 'c', 'e', 'f']] # List of list format \n",
    "# Each sentence must be a list of words i.e. sentence.split() will do the job\n",
    "print(list(bigrams(text[0])))\n",
    "print(list(bigrams(text[1])))"
   ]
  },
  {
   "cell_type": "markdown",
   "id": "ebea1372",
   "metadata": {},
   "source": [
    "## N-grams Calculations"
   ]
  },
  {
   "cell_type": "code",
   "execution_count": 26,
   "id": "2ab7a05a",
   "metadata": {},
   "outputs": [
    {
     "data": {
      "text/plain": [
       "[('a', 'c', 'd'), ('c', 'd', 'c'), ('d', 'c', 'e'), ('c', 'e', 'f')]"
      ]
     },
     "execution_count": 26,
     "metadata": {},
     "output_type": "execute_result"
    }
   ],
   "source": [
    "list(ngrams(text[1], n=3)) # Tri-grams of second sentence "
   ]
  },
  {
   "cell_type": "markdown",
   "id": "4cedcc19",
   "metadata": {},
   "source": [
    "## Padding"
   ]
  },
  {
   "cell_type": "code",
   "execution_count": 27,
   "id": "7146df0e",
   "metadata": {},
   "outputs": [
    {
     "name": "stdout",
     "output_type": "stream",
     "text": [
      "['<s>', 'a', 'b', 'c', '</s>']\n"
     ]
    }
   ],
   "source": [
    "# But since we are not able to see starting and ending of the word, hence, we will use pad_sequence\n",
    "padded_sent = list(pad_sequence(text[0], # Text to be padded\n",
    "                  pad_left=True, # Padding to the left\n",
    "                  left_pad_symbol=\"<s>\", \n",
    "                  pad_right=True, # Padding to the right \n",
    "                  right_pad_symbol=\"</s>\", \n",
    "                  n=2)) # No. of grams \n",
    "print(padded_sent)"
   ]
  },
  {
   "cell_type": "code",
   "execution_count": 28,
   "id": "e592961d",
   "metadata": {},
   "outputs": [
    {
     "data": {
      "text/plain": [
       "[('<s>', 'a'), ('a', 'b'), ('b', 'c'), ('c', '</s>')]"
      ]
     },
     "execution_count": 28,
     "metadata": {},
     "output_type": "execute_result"
    }
   ],
   "source": [
    "list(ngrams(padded_sent, n=2)) # 2-grams \n",
    "# Now we have the starting and ending of the word"
   ]
  },
  {
   "cell_type": "code",
   "execution_count": 29,
   "id": "4d14b905",
   "metadata": {},
   "outputs": [
    {
     "data": {
      "text/plain": [
       "['<s>', '<s>', 'a', 'b', 'c', '</s>', '</s>']"
      ]
     },
     "execution_count": 29,
     "metadata": {},
     "output_type": "execute_result"
    }
   ],
   "source": [
    "# for N gram model we put N-1 padding at the start and end of the sentence\n",
    "list(pad_both_ends(text[0], n=3)) # Using pad_both_ends directly"
   ]
  },
  {
   "cell_type": "code",
   "execution_count": 30,
   "id": "c65ba0f9",
   "metadata": {},
   "outputs": [
    {
     "data": {
      "text/plain": [
       "[('<s>', '<s>', 'a'),\n",
       " ('<s>', 'a', 'c'),\n",
       " ('a', 'c', 'd'),\n",
       " ('c', 'd', 'c'),\n",
       " ('d', 'c', 'e'),\n",
       " ('c', 'e', 'f'),\n",
       " ('e', 'f', '</s>'),\n",
       " ('f', '</s>', '</s>')]"
      ]
     },
     "execution_count": 30,
     "metadata": {},
     "output_type": "execute_result"
    }
   ],
   "source": [
    "list(ngrams(pad_both_ends(text[1], n=3), n=3)) # Using pad_both_ends directly"
   ]
  },
  {
   "cell_type": "markdown",
   "id": "4d83ad6a",
   "metadata": {},
   "source": [
    "## All grams"
   ]
  },
  {
   "cell_type": "code",
   "execution_count": 31,
   "id": "2736cac1",
   "metadata": {},
   "outputs": [
    {
     "data": {
      "text/plain": [
       "[('<s>',),\n",
       " ('<s>', 'a'),\n",
       " ('a',),\n",
       " ('a', 'b'),\n",
       " ('b',),\n",
       " ('b', 'c'),\n",
       " ('c',),\n",
       " ('c', '</s>'),\n",
       " ('</s>',)]"
      ]
     },
     "execution_count": 31,
     "metadata": {},
     "output_type": "execute_result"
    }
   ],
   "source": [
    "padded_bigrams = list(pad_both_ends(text[0], n=2))\n",
    "all_grams = list(everygrams(padded_bigrams, max_len=2))\n",
    "all_grams"
   ]
  },
  {
   "cell_type": "markdown",
   "id": "0b722493",
   "metadata": {},
   "source": [
    "### Printing the count of bigrams and trigrams from the all gram model"
   ]
  },
  {
   "cell_type": "code",
   "execution_count": 32,
   "id": "de304dda",
   "metadata": {},
   "outputs": [
    {
     "name": "stdout",
     "output_type": "stream",
     "text": [
      "Total number of unigrams:  5\n",
      "Total number of bigrams:  4\n"
     ]
    }
   ],
   "source": [
    "def print_n_count_allgrams(all_grams):\n",
    "    # Calculating the number of bi-grmas and unigrmas in first sentence [a, b, c]\n",
    "    count = {}\n",
    "    for i in all_grams:\n",
    "        if len(i) == 1:\n",
    "            if count.get(\"unigrams\"): count[\"unigrams\"] = count.get(\"unigrams\") + 1\n",
    "            else: count[\"unigrams\"] = 1\n",
    "        else:\n",
    "            if count.get(\"bigrams\"): count[\"bigrams\"] = count.get(\"bigrams\") + 1\n",
    "            else: count[\"bigrams\"] = 1\n",
    "    print(\"Total number of unigrams: \", count.get(\"unigrams\"))\n",
    "    print(\"Total number of bigrams: \", count.get(\"bigrams\"))\n",
    "\n",
    "print_n_count_allgrams(all_grams)"
   ]
  },
  {
   "cell_type": "markdown",
   "id": "9b43e816",
   "metadata": {},
   "source": [
    "## Generating Vocabulary (Flatten list of our All grams list)"
   ]
  },
  {
   "cell_type": "code",
   "execution_count": 33,
   "id": "cf287e73",
   "metadata": {},
   "outputs": [
    {
     "data": {
      "text/plain": [
       "['<s>', 'a', 'b', 'c', '</s>', '<s>', 'a', 'c', 'd', 'c', 'e', 'f', '</s>']"
      ]
     },
     "execution_count": 33,
     "metadata": {},
     "output_type": "execute_result"
    }
   ],
   "source": [
    "# Getting the padded sequence as a single list of words which is nothing but our vocabulary \n",
    "list(flatten(pad_both_ends(sent, n=2) for sent in text))"
   ]
  },
  {
   "cell_type": "code",
   "execution_count": 34,
   "id": "488ca4da",
   "metadata": {},
   "outputs": [
    {
     "name": "stdout",
     "output_type": "stream",
     "text": [
      "n-grams for sentence 1\n",
      "[('<s>',), ('<s>', 'a'), ('a',), ('a', 'b'), ('b',), ('b', 'c'), ('c',), ('c', '</s>'), ('</s>',)]\n",
      "n-grams for sentence 2\n",
      "[('<s>',), ('<s>', 'a'), ('a',), ('a', 'c'), ('c',), ('c', 'd'), ('d',), ('d', 'c'), ('c',), ('c', 'e'), ('e',), ('e', 'f'), ('f',), ('f', '</s>'), ('</s>',)]\n"
     ]
    }
   ],
   "source": [
    "# Better way to generate vocabulary and padded sequence\n",
    "training_ngrams, padded_sentences = padded_everygram_pipeline(2, text)\n",
    "for ind, ngramlize_sent in enumerate(training_ngrams):\n",
    "  print(f\"n-grams for sentence {ind + 1}\")\n",
    "  print(list(ngramlize_sent))\n",
    "# training_ngrams provides us with all_grams for every sentence in our text \n",
    "# Padded_sentences provides is nothing but our vocabulary"
   ]
  },
  {
   "cell_type": "code",
   "execution_count": 35,
   "id": "e23642bd",
   "metadata": {},
   "outputs": [
    {
     "name": "stdout",
     "output_type": "stream",
     "text": [
      "['<s>', 'a', 'b', 'c', '</s>', '<s>', 'a', 'c', 'd', 'c', 'e', 'f', '</s>']\n"
     ]
    }
   ],
   "source": [
    "print(list(padded_sentences))"
   ]
  },
  {
   "cell_type": "markdown",
   "id": "de6405a4",
   "metadata": {},
   "source": [
    "## Example of making a model for real dataset"
   ]
  },
  {
   "cell_type": "code",
   "execution_count": 36,
   "id": "9f55a8b1",
   "metadata": {},
   "outputs": [
    {
     "name": "stdout",
     "output_type": "stream",
     "text": [
      "Total Number of Paragraphs : 500\n",
      "['ca01', 'ca02', 'ca03', 'ca04', 'ca05', 'ca06', 'ca07', 'ca08', 'ca09', 'ca10']\n",
      "No. of sentences in first paragraph 98.\n",
      "First sentence from first paragraph: The Fulton County Grand Jury said Friday an investigation of Atlanta's recent primary election produced `` no evidence '' that any irregularities took place .\n"
     ]
    }
   ],
   "source": [
    "# Brown dataset\n",
    "all_para_ids = nltk.corpus.brown.fileids()\n",
    "print(\"Total Number of Paragraphs :\", len(all_para_ids))\n",
    "print(all_para_ids[:10])\n",
    "print(f\"No. of sentences in first paragraph {len(nltk.corpus.brown.sents(all_para_ids[0]))}.\")\n",
    "print(f\"First sentence from first paragraph: {' '.join(nltk.corpus.brown.sents(all_para_ids[0])[0])}\")"
   ]
  },
  {
   "cell_type": "code",
   "execution_count": 37,
   "id": "dd7cd814",
   "metadata": {},
   "outputs": [
    {
     "name": "stdout",
     "output_type": "stream",
     "text": [
      "Total number of sentences in Brown corpus: 57340\n"
     ]
    }
   ],
   "source": [
    "# Create list of all sentences present in \"brown\" coupus\n",
    "full_brown = []\n",
    "\n",
    "for text in all_para_ids:\n",
    "    para = nltk.corpus.brown.sents(text)\n",
    "    full_brown += [list(i) for i in para]\n",
    "\n",
    "print(f\"Total number of sentences in Brown corpus: {len(full_brown)}\")"
   ]
  },
  {
   "cell_type": "markdown",
   "id": "273a7e63",
   "metadata": {},
   "source": [
    "## Training our N-gram Model"
   ]
  },
  {
   "cell_type": "code",
   "execution_count": 38,
   "id": "639a830b",
   "metadata": {},
   "outputs": [],
   "source": [
    "n = 3\n",
    "model = MLE(n) # Lets train a 3-grams model, previously we set n=3\n",
    "\n",
    "# Preprocess the tokenized text for 3-grams language modelling\n",
    "train_data, padded_sents = padded_everygram_pipeline(n, full_brown)"
   ]
  },
  {
   "cell_type": "code",
   "execution_count": 39,
   "id": "c2737aed",
   "metadata": {},
   "outputs": [
    {
     "name": "stdout",
     "output_type": "stream",
     "text": [
      "<Vocabulary with cutoff=1 unk_label='<UNK>' and 56060 items>\n"
     ]
    }
   ],
   "source": [
    "# Train the model\n",
    "model.fit(train_data, padded_sents)\n",
    "print(model.vocab)"
   ]
  },
  {
   "cell_type": "code",
   "execution_count": 40,
   "id": "35887391",
   "metadata": {},
   "outputs": [
    {
     "name": "stdout",
     "output_type": "stream",
     "text": [
      "<Vocabulary with cutoff=1 unk_label='<UNK>' and 56060 items>\n"
     ]
    }
   ],
   "source": [
    "# n-gram model with laplace smoothing\n",
    "model = Laplace(n)\n",
    "# Preprocess the tokenized text for 3-grams language modelling\n",
    "train_data, padded_sents = padded_everygram_pipeline(n, full_brown)\n",
    "model.fit(train_data, padded_sents)\n",
    "print(model.vocab)"
   ]
  },
  {
   "cell_type": "code",
   "execution_count": 41,
   "id": "14bf9846",
   "metadata": {},
   "outputs": [
    {
     "name": "stdout",
     "output_type": "stream",
     "text": [
      "106\n",
      "6\n",
      "1\n",
      "7.396592866642887e-05\n",
      "0.00012482836100362001\n",
      "3.567224342738915e-05\n"
     ]
    }
   ],
   "source": [
    "# Using model to retrieve counts\n",
    "print(model.counts['language']) # count(language)\n",
    "\n",
    "# count(Fulton, County)\n",
    "print(model.counts[['Fulton']]['County'])\n",
    "\n",
    "# count(Fulton, County, Grand)\n",
    "print(model.counts[['Fulton', 'County']]['Grand'])\n",
    "\n",
    "# P(language)\n",
    "print(model.score('language'))\n",
    "\n",
    "# P(County | Fulton)\n",
    "print(model.score('County', ['Fulton']))\n",
    "\n",
    "# P(Grand | Fulton, County)\n",
    "print(model.score('Grand', ['Fulton', 'County']))"
   ]
  },
  {
   "cell_type": "code",
   "execution_count": 53,
   "id": "0b521d09",
   "metadata": {},
   "outputs": [
    {
     "name": "stdout",
     "output_type": "stream",
     "text": [
      "['Canyon', 'voice', 'outstanding', 'above', 'the', 'year-earlier', 'level', '.', '</s>', '</s>']\n"
     ]
    }
   ],
   "source": [
    "# Now we have ngram model, let's use it to generate text\n",
    "# Generate 10 words after 'The'\n",
    "print(model.generate(10, text_seed=['Grand']))"
   ]
  },
  {
   "cell_type": "markdown",
   "id": "7eaa68b9",
   "metadata": {},
   "source": [
    "## POS tagging using spacy"
   ]
  },
  {
   "cell_type": "code",
   "execution_count": 51,
   "id": "ea33f09b",
   "metadata": {},
   "outputs": [
    {
     "name": "stdout",
     "output_type": "stream",
     "text": [
      "This  |  PRON  |  pronoun  |  DT  |  determiner\n",
      "is  |  AUX  |  auxiliary  |  VBZ  |  verb, 3rd person singular present\n",
      "the  |  DET  |  determiner  |  DT  |  determiner\n",
      "second  |  ADJ  |  adjective  |  JJ  |  adjective (English), other noun-modifier (Chinese)\n",
      "tutorial  |  NOUN  |  noun  |  NN  |  noun, singular or mass\n",
      "of  |  ADP  |  adposition  |  IN  |  conjunction, subordinating or preposition\n",
      "NLP  |  PROPN  |  proper noun  |  NNP  |  noun, proper singular\n",
      ".  |  PUNCT  |  punctuation  |  .  |  punctuation mark, sentence closer\n",
      "I  |  PRON  |  pronoun  |  PRP  |  pronoun, personal\n",
      "hope  |  VERB  |  verb  |  VBP  |  verb, non-3rd person singular present\n",
      "you  |  PRON  |  pronoun  |  PRP  |  pronoun, personal\n",
      "are  |  AUX  |  auxiliary  |  VBP  |  verb, non-3rd person singular present\n",
      "enjoying  |  VERB  |  verb  |  VBG  |  verb, gerund or present participle\n",
      "it  |  PRON  |  pronoun  |  PRP  |  pronoun, personal\n",
      ".  |  PUNCT  |  punctuation  |  .  |  punctuation mark, sentence closer\n"
     ]
    }
   ],
   "source": [
    "nlp = spacy.load(\"en_core_web_sm\")\n",
    "doc = nlp(\"This is the second tutorial of NLP. I hope you are enjoying it.\")\n",
    "\n",
    "for token in doc:\n",
    "    print(token,\" | \", token.pos_, \" | \", spacy.explain(token.pos_), \" | \", token.tag_, \" | \", spacy.explain(token.tag_))"
   ]
  },
  {
   "cell_type": "markdown",
   "id": "5eac1245",
   "metadata": {},
   "source": [
    "# Practice problems for Tierce-1"
   ]
  },
  {
   "cell_type": "markdown",
   "id": "a9850005",
   "metadata": {},
   "source": [
    "## Autocomplete Problem using N gram model"
   ]
  },
  {
   "cell_type": "code",
   "execution_count": 146,
   "id": "134e7945",
   "metadata": {},
   "outputs": [],
   "source": [
    "N = 3\n",
    "model = MLE(N)\n",
    "train_data, padded_sents = padded_everygram_pipeline(N, full_brown)\n",
    "model.fit(train_data, padded_sents)"
   ]
  },
  {
   "cell_type": "code",
   "execution_count": 147,
   "id": "d6742e67",
   "metadata": {},
   "outputs": [
    {
     "data": {
      "text/plain": [
       "'in'"
      ]
     },
     "execution_count": 147,
     "metadata": {},
     "output_type": "execute_result"
    }
   ],
   "source": [
    "# Autocomplete using ngram model\n",
    "# We will use the model trained on Brown corpus\n",
    "\n",
    "def auto_complete(previous_tokens, model, N):\n",
    "\n",
    "    # most recent 'n-1' words\n",
    "    prev_ngram = previous_tokens[max(-N+1, -len(previous_tokens)):]\n",
    "\n",
    "    max_prob_so_far = 0\n",
    "    best_word = None\n",
    "\n",
    "    for word in model.vocab:\n",
    "        if model.score(word, prev_ngram) > max_prob_so_far:\n",
    "            max_prob_so_far = model.score(word, prev_ngram)\n",
    "            best_word = word\n",
    "\n",
    "    return best_word\n",
    "\n",
    "# Let's try it out\n",
    "auto_complete(['first', 'time'], model, N)\n"
   ]
  },
  {
   "cell_type": "code",
   "execution_count": 148,
   "id": "11df50fd",
   "metadata": {},
   "outputs": [
    {
     "name": "stdout",
     "output_type": "stream",
     "text": [
      "election\n",
      "produced\n",
      "``\n",
      "no\n",
      "evidence\n",
      "of\n",
      "the\n",
      "United\n",
      "States\n",
      ",\n"
     ]
    }
   ],
   "source": [
    "k = 10\n",
    "my_tokens = ['recent', 'primary']\n",
    "for i in range(k):\n",
    "    next_word = auto_complete(my_tokens, model, N)\n",
    "    if next_word is not None:\n",
    "        print(next_word)\n",
    "        my_tokens.append(next_word)\n",
    "        my_tokens.pop(0)"
   ]
  },
  {
   "cell_type": "markdown",
   "id": "d60f706d",
   "metadata": {},
   "source": [
    "## Edit Distance Snippets"
   ]
  },
  {
   "cell_type": "code",
   "execution_count": 157,
   "id": "585425e0",
   "metadata": {},
   "outputs": [],
   "source": [
    "\n",
    "def edit_distance_custom(word1, word2, backtrace=False, return_matrix=False):\n",
    "    m = len(word1)\n",
    "    n = len(word2)\n",
    "    dp = [[0 for i in range(n+1)] for j in range(m+1)]\n",
    "    for i in range(m+1):\n",
    "        for j in range(n+1):\n",
    "            if i == 0:\n",
    "                dp[i][j] = j\n",
    "            elif j == 0:\n",
    "                dp[i][j] = i\n",
    "            elif word1[i-1] == word2[j-1]:\n",
    "                dp[i][j] = dp[i-1][j-1]\n",
    "            else:\n",
    "                dp[i][j] = 1 + min(dp[i][j-1], dp[i-1][j], dp[i-1][j-1])\n",
    "\n",
    "    if backtrace:\n",
    "        # backtracking\n",
    "        i = m\n",
    "        j = n\n",
    "        operations = []\n",
    "        while i > 0 and j > 0:\n",
    "            if word1[i-1] == word2[j-1]:\n",
    "                i -= 1\n",
    "                j -= 1\n",
    "            elif dp[i][j] == dp[i-1][j-1] + 1:\n",
    "                operations.append(f\"Substitute {word1[i-1]} with {word2[j-1]}\")\n",
    "                i -= 1\n",
    "                j -= 1\n",
    "            elif dp[i][j] == dp[i-1][j] + 1:\n",
    "                operations.append(f\"Delete {word1[i-1]}\")\n",
    "                i -= 1\n",
    "            elif dp[i][j] == dp[i][j-1] + 1:\n",
    "                operations.append(f\"Insert {word2[j-1]}\")\n",
    "                j -= 1\n",
    "        while i > 0:\n",
    "            operations.append(f\"Delete {word1[i-1]}\")\n",
    "            i -= 1\n",
    "        while j > 0:\n",
    "            operations.append(f\"Insert {word2[j-1]}\")\n",
    "            j -= 1\n",
    "\n",
    "        if return_matrix:\n",
    "            return dp[m][n], operations, dp\n",
    "        else:\n",
    "            return dp[m][n], operations\n",
    "\n",
    "    if return_matrix:\n",
    "        return dp[m][n], dp\n",
    "    else:\n",
    "        return dp[m][n]\n",
    "\n",
    "def edit_distance_with_transposition(word1, word2, backtrace=False, return_matrix=False):\n",
    "    m = len(word1)\n",
    "    n = len(word2)\n",
    "    dp = [[0 for i in range(n+1)] for j in range(m+1)]\n",
    "    for i in range(m+1):\n",
    "        for j in range(n+1):\n",
    "            if i == 0:\n",
    "                dp[i][j] = j\n",
    "            elif j == 0:\n",
    "                dp[i][j] = i\n",
    "            elif word1[i-1] == word2[j-1]:\n",
    "                dp[i][j] = dp[i-1][j-1]\n",
    "            else:\n",
    "                dp[i][j] = 1 + min(dp[i][j-1], dp[i-1][j], dp[i-1][j-1])\n",
    "                if i > 1 and j > 1 and word1[i-1] == word2[j-2] and word1[i-2] == word2[j-1]:\n",
    "                    dp[i][j] = min(dp[i][j], dp[i-2][j-2] + 1)\n",
    "\n",
    "    if backtrace:\n",
    "        # backtracking\n",
    "        i = m\n",
    "        j = n\n",
    "        operations = []\n",
    "        while i > 0 and j > 0:\n",
    "            if word1[i-1] == word2[j-1]:\n",
    "                i -= 1\n",
    "                j -= 1\n",
    "            elif dp[i][j] == dp[i-1][j-1] + 1:\n",
    "                operations.append(f\"Substitute {word1[i-1]} with {word2[j-1]}\")\n",
    "                i -= 1\n",
    "                j -= 1\n",
    "            elif dp[i][j] == dp[i-1][j] + 1:\n",
    "                operations.append(f\"Delete {word1[i-1]}\")\n",
    "                i -= 1\n",
    "            elif dp[i][j] == dp[i][j-1] + 1:\n",
    "                operations.append(f\"Insert {word2[j-1]}\")\n",
    "                j -= 1\n",
    "            elif dp[i][j] == dp[i-2][j-2] + 1:\n",
    "                operations.append(f\"Transpose {word1[i-2]} and {word1[i-1]}\")\n",
    "                i -= 2\n",
    "                j -= 2\n",
    "        while i > 0:\n",
    "            operations.append(f\"Delete {word1[i-1]}\")\n",
    "            i -= 1\n",
    "        while j > 0:\n",
    "            operations.append(f\"Insert {word2[j-1]}\")\n",
    "            j -= 1\n",
    "\n",
    "        if return_matrix:\n",
    "            return dp[m][n], operations, dp\n",
    "        else:\n",
    "            return dp[m][n], operations\n",
    "    \n",
    "    if return_matrix:\n",
    "        return dp[m][n], dp\n",
    "    else:\n",
    "        return dp[m][n]"
   ]
  },
  {
   "cell_type": "code",
   "execution_count": 150,
   "id": "66620ed2",
   "metadata": {},
   "outputs": [
    {
     "data": {
      "text/plain": [
       "3"
      ]
     },
     "execution_count": 150,
     "metadata": {},
     "output_type": "execute_result"
    }
   ],
   "source": [
    "# edit distance between two words\n",
    "from nltk.metrics import edit_distance\n",
    "\n",
    "edit_distance(\"rain\", \"shine\", transpositions=True)"
   ]
  },
  {
   "cell_type": "code",
   "execution_count": 155,
   "id": "e7fcd508",
   "metadata": {},
   "outputs": [
    {
     "data": {
      "text/plain": [
       "(3,\n",
       " ['Insert e', 'Substitute a with h', 'Substitute r with s'],\n",
       " [[0, 1, 2, 3, 4, 5],\n",
       "  [1, 1, 2, 3, 4, 5],\n",
       "  [2, 2, 2, 3, 4, 5],\n",
       "  [3, 3, 3, 2, 3, 4],\n",
       "  [4, 4, 4, 3, 2, 3]])"
      ]
     },
     "execution_count": 155,
     "metadata": {},
     "output_type": "execute_result"
    }
   ],
   "source": [
    "edit_distance_custom(\"rain\", \"shine\", backtrace=True, return_matrix=True)"
   ]
  },
  {
   "cell_type": "code",
   "execution_count": 160,
   "id": "d504c7bc",
   "metadata": {},
   "outputs": [
    {
     "data": {
      "text/plain": [
       "(3,\n",
       " ['Substitute l with r', 'Substitute e with u', 'Transpose a and e'],\n",
       " [[0, 1, 2, 3, 4, 5, 6],\n",
       "  [1, 0, 1, 2, 3, 4, 5],\n",
       "  [2, 1, 1, 1, 2, 3, 4],\n",
       "  [3, 2, 1, 1, 2, 3, 4],\n",
       "  [4, 3, 2, 2, 1, 2, 3],\n",
       "  [5, 4, 3, 3, 2, 2, 3],\n",
       "  [6, 5, 4, 4, 3, 3, 3]])"
      ]
     },
     "execution_count": 160,
     "metadata": {},
     "output_type": "execute_result"
    }
   ],
   "source": [
    "edit_distance_with_transposition(\"maezel\", \"meazur\", backtrace=True, return_matrix=True)"
   ]
  },
  {
   "cell_type": "markdown",
   "id": "9665bf30",
   "metadata": {},
   "source": [
    "## Viterbi Distance Snippets"
   ]
  },
  {
   "cell_type": "code",
   "execution_count": 214,
   "id": "104afc9a",
   "metadata": {},
   "outputs": [],
   "source": [
    "# viterbi decoding for POS tagging\n",
    "def viterbi_decoding(tokens, model, all_possible_tags):\n",
    "    # tokens: list of tokens\n",
    "    # model: ngram model\n",
    "    # returns: list of tags\n",
    "\n",
    "    # initialize\n",
    "    T = len(tokens)\n",
    "    # get all possible tags\n",
    "    tags = all_possible_tags\n",
    "\n",
    "    V = len(tags)\n",
    "    dp = [[0 for i in range(V)] for j in range(T)]\n",
    "    backpointers = [[0 for i in range(V)] for j in range(T)]\n",
    "\n",
    "    # base case\n",
    "    for i in range(V):\n",
    "        # dp[0][i] = model.score(tokens[0], tags[i])\n",
    "        if tokens[0] in model.keys() and tags[i] in model[tokens[0]].keys() and tags[i] in model.keys() and '<s>' in model[tags[i]].keys():\n",
    "            dp[0][i] = max(dp[0][i], model[tokens[0]][tags[i]] * model[tags[i]]['<s>'])\n",
    "\n",
    "        backpointers[0][i] = 0\n",
    "\n",
    "    # induction\n",
    "    for t in range(1, T):\n",
    "        # print('\\n' + '*'*50)\n",
    "        # print(f\"t = {t}\")\n",
    "        for i in range(V):\n",
    "            # print(f\"Current tag = {tags[i]}\")\n",
    "            max_prob_so_far = -1\n",
    "            best_tag = None\n",
    "            for j in range(V):\n",
    "                # print(f\"Previous tag = {tags[j]}\")\n",
    "                if tokens[t] in model.keys() and tags[i] in model[tokens[t]].keys() and tags[i] in model.keys() and tags[j] in model[tags[i]].keys():\n",
    "                    prob = dp[t-1][j] * model[tokens[t]][tags[i]] * model[tags[i]][tags[j]]\n",
    "                else:\n",
    "                    prob = -1\n",
    "\n",
    "                # print(f\"prob = {prob}\")\n",
    "\n",
    "                if prob > max_prob_so_far:\n",
    "                    max_prob_so_far = prob\n",
    "                    best_tag = j\n",
    "\n",
    "            dp[t][i] = max_prob_so_far\n",
    "            backpointers[t][i] = best_tag\n",
    "\n",
    "            # print(f\"dp[{t}][{i}] = {dp[t][i]}\")\n",
    "            # print(f\"backpointers[{t}][{i}] = {backpointers[t][i]}\")\n",
    "            # print()\n",
    "\n",
    "\n",
    "    # termination\n",
    "    max_prob_so_far = -1\n",
    "    best_tag = None\n",
    "    for i in range(V):\n",
    "        if dp[T-1][i] > max_prob_so_far:\n",
    "            max_prob_so_far = dp[T-1][i]\n",
    "            best_tag = i\n",
    "\n",
    "    # backtracking\n",
    "    best_sequence = [best_tag for i in range(T)]\n",
    "    for t in range(T-1, 0, -1):\n",
    "        best_sequence[t-1] = backpointers[t][best_sequence[t]]\n",
    "\n",
    "    return [tags[i] for i in best_sequence]\n"
   ]
  },
  {
   "cell_type": "code",
   "execution_count": 215,
   "id": "cd9eb480",
   "metadata": {},
   "outputs": [
    {
     "data": {
      "text/plain": [
       "['Noun', 'Verb', 'Verb']"
      ]
     },
     "execution_count": 215,
     "metadata": {},
     "output_type": "execute_result"
    }
   ],
   "source": [
    "model = {\n",
    "    'Det': {'<s>': 0.25}, \n",
    "    'Noun': {'<s>': 0.25, 'Det': 0.5, 'Noun': 0.2, 'Adj': 0.2, 'Verb': 0.3}, \n",
    "    'Adj': {'<s>': 0.25, 'Det': 0.3, 'Noun': 0.002}, \n",
    "    'Verb': {'<s>': 0.25, 'Det': 0.00001, 'Noun': 0.3, 'Adj': 0.001, 'Verb': 0.1},\n",
    "    'the': {'Det': 0.3, 'Noun': 0.1},\n",
    "    'light': {'Noun': 0.003, 'Adj': 0.002, 'Verb': 0.06},\n",
    "    'book': {'Noun': 0.003, 'Verb': 0.01},\n",
    "}\n",
    "\n",
    "tokens = ['the', 'light', 'book']\n",
    "tags = ['Det', 'Noun', 'Adj', 'Verb']\n",
    "\n",
    "viterbi_decoding(tokens, model, tags)"
   ]
  },
  {
   "cell_type": "code",
   "execution_count": null,
   "id": "7787ecb9",
   "metadata": {},
   "outputs": [],
   "source": []
  },
  {
   "cell_type": "code",
   "execution_count": null,
   "id": "e3892fc2",
   "metadata": {},
   "outputs": [],
   "source": []
  },
  {
   "cell_type": "code",
   "execution_count": null,
   "id": "af34b404",
   "metadata": {},
   "outputs": [],
   "source": []
  },
  {
   "cell_type": "code",
   "execution_count": null,
   "id": "4fd002df",
   "metadata": {},
   "outputs": [],
   "source": []
  }
 ],
 "metadata": {
  "kernelspec": {
   "display_name": "Python 3 (ipykernel)",
   "language": "python",
   "name": "python3"
  },
  "language_info": {
   "codemirror_mode": {
    "name": "ipython",
    "version": 3
   },
   "file_extension": ".py",
   "mimetype": "text/x-python",
   "name": "python",
   "nbconvert_exporter": "python",
   "pygments_lexer": "ipython3",
   "version": "3.9.12"
  }
 },
 "nbformat": 4,
 "nbformat_minor": 5
}
